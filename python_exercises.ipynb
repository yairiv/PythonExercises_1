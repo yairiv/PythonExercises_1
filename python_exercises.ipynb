{
  "nbformat": 4,
  "nbformat_minor": 0,
  "metadata": {
    "colab": {
      "provenance": [],
      "include_colab_link": true
    },
    "kernelspec": {
      "name": "python3",
      "display_name": "Python 3"
    },
    "language_info": {
      "name": "python"
    }
  },
  "cells": [
    {
      "cell_type": "markdown",
      "metadata": {
        "id": "view-in-github",
        "colab_type": "text"
      },
      "source": [
        "<a href=\"https://colab.research.google.com/github/yairiv/PythonExercises_1/blob/main/python_exercises.ipynb\" target=\"_parent\"><img src=\"https://colab.research.google.com/assets/colab-badge.svg\" alt=\"Open In Colab\"/></a>"
      ]
    },
    {
      "cell_type": "markdown",
      "source": [
        "INFORMACION DE ESTUDIANTE\n",
        "**Yairi Daniela Valdez Cortés 1954846 ThursdayN4**"
      ],
      "metadata": {
        "id": "BwtijCkCAFET"
      }
    },
    {
      "cell_type": "code",
      "execution_count": 1,
      "metadata": {
        "colab": {
          "base_uri": "https://localhost:8080/"
        },
        "id": "g0yQTNapABUR",
        "outputId": "839aaa06-bb20-489b-8edb-e766a9483914"
      },
      "outputs": [
        {
          "output_type": "stream",
          "name": "stdout",
          "text": [
            "The number of paragraphs is 5\n",
            "\n",
            "The number of sentences is 61\n",
            "\n",
            "The number of words is 433\n",
            "\n",
            "Average word length: 6.01\n",
            "\n",
            "The most used words and its frequency are [('sit', 11), ('amet', 9), ('et', 9), ('sed', 8), ('porttitor', 6)]\n",
            "\n"
          ]
        }
      ],
      "source": [
        "# EJERCICIO 1-TEXT ANALYSIS TOOL\n",
        "\n",
        "large_text = None\n",
        "\n",
        "words_dictionary = {}\n",
        "average_words = []\n",
        "\n",
        "with open('text.txt', 'r') as file:\n",
        "    large_text = file.read().lower()\n",
        "\n",
        "words = large_text.split(' ')\n",
        "\n",
        "def count_paragraphs():\n",
        "    paragraphs = [string for string in large_text.split('\\n') if string != \"\"]\n",
        "    print(f\"The number of paragraphs is {len(paragraphs)}\\n\")\n",
        "\n",
        "def count_sentences():\n",
        "    print(f\"The number of sentences is {len(large_text.split('.'))}\\n\")\n",
        "\n",
        "def count_words():\n",
        "     print(f\"The number of words is {len(words)}\\n\")\n",
        "\n",
        "def words_cycle():\n",
        "    for word in words:\n",
        "        average_words.append(len(word))\n",
        "        word_helper(word)\n",
        "\n",
        "def word_helper(word):\n",
        "    if word in words_dictionary:\n",
        "        words_dictionary[word] += 1\n",
        "    else:\n",
        "        words_dictionary[word] = 1\n",
        "\n",
        "def average():\n",
        "    ave = sum(average_words) / len(average_words)\n",
        "    print(f\"Average word length: {ave:.2f}\\n\")\n",
        "\n",
        "def words_freq():\n",
        "    most_used_words = dict(sorted(words_dictionary.items(), key= lambda item: item[1], reverse=True))\n",
        "    items = list(most_used_words.items())\n",
        "    print(f\"The most used words and its frequency are {items[:5]}\\n\")\n",
        "\n",
        "\n",
        "words_cycle()\n",
        "count_paragraphs()\n",
        "count_sentences()\n",
        "count_words()\n",
        "average()\n",
        "words_freq()"
      ]
    },
    {
      "cell_type": "code",
      "source": [
        "# EJERCICIO 2-HANGMAN GAME\n",
        "\n",
        "import random\n",
        "\n",
        "# Define variables to use\n",
        "attempts = 6\n",
        "words = None\n",
        "show_letters = []\n",
        "\n",
        "status = False\n",
        "\n",
        "with open('words.txt', 'r') as file:\n",
        "    words = file.read().lower().split('\\n') # convert all the words in a text to a list of 100 words\n",
        "\n",
        "rand = random.randint(0, 99) # get a random number from 0 to 100\n",
        "\n",
        "word = words[rand] # get a random word form the words list using the variable rand\n",
        "\n",
        "# function to encrypt the word so it shows as the user reveals each letter\n",
        "def encrypt_word():\n",
        "    new_word = []\n",
        "    for letter in word:\n",
        "        if letter == \" \": # if a letter is a whitespace skip to the next letter\n",
        "            new_word.append(\" \")\n",
        "            continue\n",
        "\n",
        "        if letter in show_letters: # show the letter that the user has already type if its in the word\n",
        "            new_word.append(letter)\n",
        "        else: # else encrypt the word\n",
        "            new_word.append('_')\n",
        "\n",
        "    if \"_\" not in new_word:\n",
        "        global attempts\n",
        "        attempts = 0\n",
        "        global status\n",
        "        status = True\n",
        "        return word\n",
        "\n",
        "    return ''.join(new_word) # show the full encrypted word\n",
        "\n",
        "# Instructions of the game\n",
        "print(\"This is Hangmen the game, these are the rules:\\n\")\n",
        "print(\"you have only 6 attempts since they count as for\\n\")\n",
        "print(\"1: Head, 2: Body, 3: Left Arm, 4: Right Arm, 5: Left Leg and 6: Right Leg,\\n\")\n",
        "print(\"you just have to type a letter and if you are correct\\n\")\n",
        "print(\"we will show the letter that correspond to the position of the word,\\n\")\n",
        "print(\"otherwise you will lose one attempt, if you lose all the attempts\\n\")\n",
        "print(\"you lose the game so good luck.\")\n",
        "print(\"\\nLet's start this new game: \\n \")\n",
        "\n",
        "print(f\"The word has {len(encrypt_word())} characters: {encrypt_word()}\\n\")\n",
        "\n",
        "while attempts > 0:\n",
        "    letter = str(input(\"Please type a new letter: \")) # receive the letter that the user has typed\n",
        "    if letter == '' or len(letter) > 1:\n",
        "        print(\"Please type a valid letter\")\n",
        "        continue\n",
        "    if letter in word: # check if the letter is in the word\n",
        "        show_letters.append(letter) # add the letter to a list of showable letters\n",
        "        print(\"Thats correct!\")\n",
        "        print(encrypt_word()) # print the new encrypted word\n",
        "    else:\n",
        "        attempts -= 1 # removes one attempt\n",
        "        print(f\"Thats wrong :(, attempts left {attempts}\\n\")\n",
        "\n",
        "if status == False:\n",
        "    print(f\"Too bad you lost, the word was {word}\\n\")\n",
        "    print(\"Keep trying\")\n",
        "else:\n",
        "    print(\"Well done, you got all the letters correctly\")\n"
      ],
      "metadata": {
        "colab": {
          "base_uri": "https://localhost:8080/"
        },
        "id": "kTaka0iXDQ_c",
        "outputId": "f331fdf8-c55f-4d45-e5d2-1b66ec68b93d"
      },
      "execution_count": null,
      "outputs": [
        {
          "output_type": "stream",
          "name": "stdout",
          "text": [
            "This is Hangmen the game, these are the rules:\n",
            "\n",
            "you have only 6 attempts since they count as for\n",
            "\n",
            "1: Head, 2: Body, 3: Left Arm, 4: Right Arm, 5: Left Leg and 6: Right Leg,\n",
            "\n",
            "you just have to type a letter and if you are correct\n",
            "\n",
            "we will show the letter that correspond to the position of the word,\n",
            "\n",
            "otherwise you will lose one attempt, if you lose all the attempts\n",
            "\n",
            "you lose the game so good luck.\n",
            "\n",
            "Let's start this new game: \n",
            " \n",
            "The word has 5 characters: _____\n",
            "\n",
            "Please type a new letter: A\n",
            "Thats wrong :(, attempts left 5\n",
            "\n",
            "Please type a new letter: o\n",
            "Thats wrong :(, attempts left 4\n",
            "\n",
            "Please type a new letter: e\n",
            "Thats correct!\n",
            "____e\n",
            "Please type a new letter: u\n",
            "Thats wrong :(, attempts left 3\n",
            "\n",
            "Please type a new letter: i\n",
            "Thats wrong :(, attempts left 2\n",
            "\n",
            "Please type a new letter: n\n",
            "Thats wrong :(, attempts left 1\n",
            "\n",
            "Please type a new letter: l\n",
            "Thats correct!\n",
            "___le\n",
            "Please type a new letter: c\n",
            "Thats wrong :(, attempts left 0\n",
            "\n",
            "Too bad you lost, the word was apple\n",
            "\n",
            "Keep trying\n"
          ]
        }
      ]
    },
    {
      "cell_type": "code",
      "source": [
        "# EJERCICIO 3-NUMBER GUESSING GAME\n",
        "\n",
        "import random\n",
        "\n",
        "number_to_guess = random.randint(0, 99)\n",
        "\n",
        "not_guessed = True\n",
        "\n",
        "error_count = 0\n",
        "\n",
        "while not_guessed:\n",
        "    try:\n",
        "        text = input(\"Guess the number: \")\n",
        "        guessed_number = int(text)\n",
        "        if guessed_number == number_to_guess:\n",
        "            print(\"Congrats you have guessed correctly!!\")\n",
        "            not_guessed = False\n",
        "        elif guessed_number > number_to_guess:\n",
        "            print(\"The number you have guessed is greater than the number selected\")\n",
        "        else:\n",
        "            print(\"The number you have guessed is lower than the number selected\")\n",
        "    except ValueError:\n",
        "        if text.lower() == \"stop\":\n",
        "            not_guessed = False\n",
        "            print(\"You are exiting the game\")\n",
        "\n",
        "        print(\"Error: The guessed number must be a number!\")\n",
        "        print(\"Try Again\")\n",
        "\n",
        "        if error_count == 5:\n",
        "            error_count = 0\n",
        "            print(\"To stop playing type stop\")\n",
        "        else:\n",
        "            error_count += 1\n"
      ],
      "metadata": {
        "colab": {
          "base_uri": "https://localhost:8080/"
        },
        "id": "XMTctpw2DgNO",
        "outputId": "c942bfbe-1bb5-4796-c84d-54830a3ae4e8"
      },
      "execution_count": null,
      "outputs": [
        {
          "output_type": "stream",
          "name": "stdout",
          "text": [
            "Guess the number: 100\n",
            "The number you have guessed is greater than the number selected\n",
            "Guess the number: 1\n",
            "The number you have guessed is lower than the number selected\n",
            "Guess the number: 30\n",
            "The number you have guessed is greater than the number selected\n",
            "Guess the number: 20\n",
            "The number you have guessed is greater than the number selected\n",
            "Guess the number: 10\n",
            "The number you have guessed is lower than the number selected\n",
            "Guess the number: 14\n",
            "The number you have guessed is greater than the number selected\n",
            "Guess the number: 12\n",
            "The number you have guessed is lower than the number selected\n",
            "Guess the number: 13\n",
            "Congrats you have guessed correctly!!\n"
          ]
        }
      ]
    }
  ]
}